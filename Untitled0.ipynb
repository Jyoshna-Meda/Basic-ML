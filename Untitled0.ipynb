{
  "nbformat": 4,
  "nbformat_minor": 0,
  "metadata": {
    "colab": {
      "name": "Untitled0.ipynb",
      "provenance": []
    },
    "kernelspec": {
      "name": "python3",
      "display_name": "Python 3"
    },
    "language_info": {
      "name": "python"
    }
  },
  "cells": [
    {
      "cell_type": "code",
      "metadata": {
        "id": "rv8PfgFD5Bq4"
      },
      "source": [
        ""
      ],
      "execution_count": null,
      "outputs": []
    },
    {
      "cell_type": "markdown",
      "metadata": {
        "id": "lAXz1m8q5C_-"
      },
      "source": [
        "Python Program to Check Prime Number"
      ]
    },
    {
      "cell_type": "code",
      "metadata": {
        "colab": {
          "base_uri": "https://localhost:8080/"
        },
        "id": "JZ6Vd5a05f9J",
        "outputId": "0dcc0a3a-489e-4a0d-f052-75b71851ee65"
      },
      "source": [
        "\n",
        "\n",
        "num = int(input(\"Enter a number: \"))\n",
        "\n",
        "flag = False\n",
        "\n",
        "# prime numbers are greater than 1\n",
        "if num > 1:\n",
        "    # check for factors\n",
        "    for i in range(2, num):\n",
        "        if (num % i) == 0:\n",
        "            # if factor is found, set flag to True\n",
        "            flag = True\n",
        "            # break out of loop\n",
        "            break\n",
        "\n",
        "# check if flag is True\n",
        "if flag:\n",
        "    print(num, \"is not a prime number\")\n",
        "else:\n",
        "    print(num, \"is a prime number\")"
      ],
      "execution_count": 1,
      "outputs": [
        {
          "output_type": "stream",
          "text": [
            "Enter a number: 21\n",
            "21 is not a prime number\n"
          ],
          "name": "stdout"
        }
      ]
    },
    {
      "cell_type": "markdown",
      "metadata": {
        "id": "eD7yJdmG6H-t"
      },
      "source": [
        ""
      ]
    },
    {
      "cell_type": "markdown",
      "metadata": {
        "id": "yHwWtGuY6OAe"
      },
      "source": [
        "Python Program to Check Leap Year"
      ]
    },
    {
      "cell_type": "code",
      "metadata": {
        "colab": {
          "base_uri": "https://localhost:8080/"
        },
        "id": "D7S99TRi6Phd",
        "outputId": "08d30876-519c-475c-9c06-92c175811a9d"
      },
      "source": [
        "year = int(input(\"Enter a year: \"))\n",
        "\n",
        "if (year % 4) == 0:\n",
        "   if (year % 100) == 0:\n",
        "       if (year % 400) == 0:\n",
        "           print(\"{0} is a leap year\".format(year))\n",
        "       else:\n",
        "           print(\"{0} is not a leap year\".format(year))\n",
        "   else:\n",
        "       print(\"{0} is a leap year\".format(year))\n",
        "else:\n",
        "   print(\"{0} is not a leap year\".format(year))\n"
      ],
      "execution_count": 2,
      "outputs": [
        {
          "output_type": "stream",
          "text": [
            "Enter a year: 2000\n",
            "2000 is a leap year\n"
          ],
          "name": "stdout"
        }
      ]
    },
    {
      "cell_type": "markdown",
      "metadata": {
        "id": "s3VKgebT6dx5"
      },
      "source": [
        "Python Program to Find the Factorial of a Number"
      ]
    },
    {
      "cell_type": "code",
      "metadata": {
        "colab": {
          "base_uri": "https://localhost:8080/"
        },
        "id": "2UDCGZU_6miJ",
        "outputId": "ab2bb135-fc2f-4dc7-dd1a-232fd5ecabe1"
      },
      "source": [
        "num = int(input(\"Enter a number: \"))\n",
        "\n",
        "factorial = 1\n",
        "\n",
        "# check if the number is negative, positive or zero\n",
        "if num < 0:\n",
        "   print(\"Sorry, factorial does not exist for negative numbers\")\n",
        "elif num == 0:\n",
        "   print(\"The factorial of 0 is 1\")\n",
        "else:\n",
        "   for i in range(1,num + 1):\n",
        "       factorial = factorial*i\n",
        "   print(\"The factorial of\",num,\"is\",factorial)\n"
      ],
      "execution_count": 3,
      "outputs": [
        {
          "output_type": "stream",
          "text": [
            "Enter a number: 5\n",
            "The factorial of 5 is 120\n"
          ],
          "name": "stdout"
        }
      ]
    }
  ]
}