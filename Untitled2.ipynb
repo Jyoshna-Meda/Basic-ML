{
  "nbformat": 4,
  "nbformat_minor": 0,
  "metadata": {
    "colab": {
      "name": "Untitled2.ipynb",
      "provenance": [],
      "collapsed_sections": [],
      "authorship_tag": "ABX9TyO9X3HAD90U9M0zDo8aNRkl",
      "include_colab_link": true
    },
    "kernelspec": {
      "name": "python3",
      "display_name": "Python 3"
    },
    "language_info": {
      "name": "python"
    }
  },
  "cells": [
    {
      "cell_type": "markdown",
      "metadata": {
        "id": "view-in-github",
        "colab_type": "text"
      },
      "source": [
        "<a href=\"https://colab.research.google.com/github/Jyoshna-Meda/Basic-ML/blob/main/Untitled2.ipynb\" target=\"_parent\"><img src=\"https://colab.research.google.com/assets/colab-badge.svg\" alt=\"Open In Colab\"/></a>"
      ]
    },
    {
      "cell_type": "code",
      "execution_count": 1,
      "metadata": {
        "id": "H6hweDm-ZLTC"
      },
      "outputs": [],
      "source": [
        "import pandas as pd\n",
        "import numpy as np\n",
        "import matplotlib as plt"
      ]
    },
    {
      "cell_type": "code",
      "source": [
        "df=pd.read_csv(\"ppp_over_150k.csv\")"
      ],
      "metadata": {
        "id": "uN3H_yQ1bhm3"
      },
      "execution_count": 2,
      "outputs": []
    },
    {
      "cell_type": "code",
      "source": [
        "df.head()"
      ],
      "metadata": {
        "colab": {
          "base_uri": "https://localhost:8080/",
          "height": 386
        },
        "id": "y7PGVfqFbvlX",
        "outputId": "c30e1874-19b6-4bc9-c982-bf27197ae46e"
      },
      "execution_count": 3,
      "outputs": [
        {
          "output_type": "execute_result",
          "data": {
            "text/plain": [
              "   LoanNumber DateApproved  SBAOfficeCode ProcessingMethod  \\\n",
              "0  9547507704   2020-05-01            464              PPP   \n",
              "1  9777677704   2020-05-01            464              PPP   \n",
              "2  5791407702   2020-05-01           1013              PPP   \n",
              "3  6223567700   2020-05-01            920              PPP   \n",
              "4  9662437702   2020-05-01            101              PPP   \n",
              "\n",
              "               BorrowerName        BorrowerAddress      BorrowerCity  \\\n",
              "0       sumter coatings inc  2410 highway 15 south            sumter   \n",
              "1       pleasant places inc    7684 southrail road  north charleston   \n",
              "2    boyer childrens clinic       1850 boyer ave e           seattle   \n",
              "3  kirtley construction inc   1661 martin ranch rd    san bernardino   \n",
              "4              aero box llc                unknown           unknown   \n",
              "\n",
              "  BorrowerState BorrowerZip LoanStatusDate  ... TOTAL_PROCEED  PROCEED_Diff  \\\n",
              "0           UNK  29150-9662     2020-12-18  ...     769358.78           0.0   \n",
              "1           UNK  29420-9000     2021-09-28  ...     736927.79           0.0   \n",
              "2           UNK  98112-2922     2021-03-17  ...     691355.00           0.0   \n",
              "3           UNK  92407-1740     2021-10-16  ...     499871.00           0.0   \n",
              "4           UNK           0     2021-08-17  ...     367437.00           0.0   \n",
              "\n",
              "   UTILITIES_PROCEED_pct  PAYROLL_PROCEED_pct  MORTGAGE_INTEREST_PROCEED_pct  \\\n",
              "0                    0.0                  1.0                            0.0   \n",
              "1                    0.0                  1.0                            0.0   \n",
              "2                    0.0                  1.0                            0.0   \n",
              "3                    0.0                  1.0                            0.0   \n",
              "4                    0.0                  1.0                            0.0   \n",
              "\n",
              "   RENT_PROCEED_pct REFINANCE_EIDL_PROCEED_pct  HEALTH_CARE_PROCEED_pct  \\\n",
              "0               0.0                        0.0                      0.0   \n",
              "1               0.0                        0.0                      0.0   \n",
              "2               0.0                        0.0                      0.0   \n",
              "3               0.0                        0.0                      0.0   \n",
              "4               0.0                        0.0                      0.0   \n",
              "\n",
              "  DEBT_INTEREST_PROCEED_pct PROCEED_Per_Job  \n",
              "0                       0.0        12409.01  \n",
              "1                       0.0        10094.90  \n",
              "2                       0.0         9218.07  \n",
              "3                       0.0        23803.38  \n",
              "4                       0.0        14697.48  \n",
              "\n",
              "[5 rows x 66 columns]"
            ],
            "text/html": [
              "\n",
              "  <div id=\"df-0aec0bc2-0824-41bb-88bb-37c3cdf65f38\">\n",
              "    <div class=\"colab-df-container\">\n",
              "      <div>\n",
              "<style scoped>\n",
              "    .dataframe tbody tr th:only-of-type {\n",
              "        vertical-align: middle;\n",
              "    }\n",
              "\n",
              "    .dataframe tbody tr th {\n",
              "        vertical-align: top;\n",
              "    }\n",
              "\n",
              "    .dataframe thead th {\n",
              "        text-align: right;\n",
              "    }\n",
              "</style>\n",
              "<table border=\"1\" class=\"dataframe\">\n",
              "  <thead>\n",
              "    <tr style=\"text-align: right;\">\n",
              "      <th></th>\n",
              "      <th>LoanNumber</th>\n",
              "      <th>DateApproved</th>\n",
              "      <th>SBAOfficeCode</th>\n",
              "      <th>ProcessingMethod</th>\n",
              "      <th>BorrowerName</th>\n",
              "      <th>BorrowerAddress</th>\n",
              "      <th>BorrowerCity</th>\n",
              "      <th>BorrowerState</th>\n",
              "      <th>BorrowerZip</th>\n",
              "      <th>LoanStatusDate</th>\n",
              "      <th>...</th>\n",
              "      <th>TOTAL_PROCEED</th>\n",
              "      <th>PROCEED_Diff</th>\n",
              "      <th>UTILITIES_PROCEED_pct</th>\n",
              "      <th>PAYROLL_PROCEED_pct</th>\n",
              "      <th>MORTGAGE_INTEREST_PROCEED_pct</th>\n",
              "      <th>RENT_PROCEED_pct</th>\n",
              "      <th>REFINANCE_EIDL_PROCEED_pct</th>\n",
              "      <th>HEALTH_CARE_PROCEED_pct</th>\n",
              "      <th>DEBT_INTEREST_PROCEED_pct</th>\n",
              "      <th>PROCEED_Per_Job</th>\n",
              "    </tr>\n",
              "  </thead>\n",
              "  <tbody>\n",
              "    <tr>\n",
              "      <th>0</th>\n",
              "      <td>9547507704</td>\n",
              "      <td>2020-05-01</td>\n",
              "      <td>464</td>\n",
              "      <td>PPP</td>\n",
              "      <td>sumter coatings inc</td>\n",
              "      <td>2410 highway 15 south</td>\n",
              "      <td>sumter</td>\n",
              "      <td>UNK</td>\n",
              "      <td>29150-9662</td>\n",
              "      <td>2020-12-18</td>\n",
              "      <td>...</td>\n",
              "      <td>769358.78</td>\n",
              "      <td>0.0</td>\n",
              "      <td>0.0</td>\n",
              "      <td>1.0</td>\n",
              "      <td>0.0</td>\n",
              "      <td>0.0</td>\n",
              "      <td>0.0</td>\n",
              "      <td>0.0</td>\n",
              "      <td>0.0</td>\n",
              "      <td>12409.01</td>\n",
              "    </tr>\n",
              "    <tr>\n",
              "      <th>1</th>\n",
              "      <td>9777677704</td>\n",
              "      <td>2020-05-01</td>\n",
              "      <td>464</td>\n",
              "      <td>PPP</td>\n",
              "      <td>pleasant places inc</td>\n",
              "      <td>7684 southrail road</td>\n",
              "      <td>north charleston</td>\n",
              "      <td>UNK</td>\n",
              "      <td>29420-9000</td>\n",
              "      <td>2021-09-28</td>\n",
              "      <td>...</td>\n",
              "      <td>736927.79</td>\n",
              "      <td>0.0</td>\n",
              "      <td>0.0</td>\n",
              "      <td>1.0</td>\n",
              "      <td>0.0</td>\n",
              "      <td>0.0</td>\n",
              "      <td>0.0</td>\n",
              "      <td>0.0</td>\n",
              "      <td>0.0</td>\n",
              "      <td>10094.90</td>\n",
              "    </tr>\n",
              "    <tr>\n",
              "      <th>2</th>\n",
              "      <td>5791407702</td>\n",
              "      <td>2020-05-01</td>\n",
              "      <td>1013</td>\n",
              "      <td>PPP</td>\n",
              "      <td>boyer childrens clinic</td>\n",
              "      <td>1850 boyer ave e</td>\n",
              "      <td>seattle</td>\n",
              "      <td>UNK</td>\n",
              "      <td>98112-2922</td>\n",
              "      <td>2021-03-17</td>\n",
              "      <td>...</td>\n",
              "      <td>691355.00</td>\n",
              "      <td>0.0</td>\n",
              "      <td>0.0</td>\n",
              "      <td>1.0</td>\n",
              "      <td>0.0</td>\n",
              "      <td>0.0</td>\n",
              "      <td>0.0</td>\n",
              "      <td>0.0</td>\n",
              "      <td>0.0</td>\n",
              "      <td>9218.07</td>\n",
              "    </tr>\n",
              "    <tr>\n",
              "      <th>3</th>\n",
              "      <td>6223567700</td>\n",
              "      <td>2020-05-01</td>\n",
              "      <td>920</td>\n",
              "      <td>PPP</td>\n",
              "      <td>kirtley construction inc</td>\n",
              "      <td>1661 martin ranch rd</td>\n",
              "      <td>san bernardino</td>\n",
              "      <td>UNK</td>\n",
              "      <td>92407-1740</td>\n",
              "      <td>2021-10-16</td>\n",
              "      <td>...</td>\n",
              "      <td>499871.00</td>\n",
              "      <td>0.0</td>\n",
              "      <td>0.0</td>\n",
              "      <td>1.0</td>\n",
              "      <td>0.0</td>\n",
              "      <td>0.0</td>\n",
              "      <td>0.0</td>\n",
              "      <td>0.0</td>\n",
              "      <td>0.0</td>\n",
              "      <td>23803.38</td>\n",
              "    </tr>\n",
              "    <tr>\n",
              "      <th>4</th>\n",
              "      <td>9662437702</td>\n",
              "      <td>2020-05-01</td>\n",
              "      <td>101</td>\n",
              "      <td>PPP</td>\n",
              "      <td>aero box llc</td>\n",
              "      <td>unknown</td>\n",
              "      <td>unknown</td>\n",
              "      <td>UNK</td>\n",
              "      <td>0</td>\n",
              "      <td>2021-08-17</td>\n",
              "      <td>...</td>\n",
              "      <td>367437.00</td>\n",
              "      <td>0.0</td>\n",
              "      <td>0.0</td>\n",
              "      <td>1.0</td>\n",
              "      <td>0.0</td>\n",
              "      <td>0.0</td>\n",
              "      <td>0.0</td>\n",
              "      <td>0.0</td>\n",
              "      <td>0.0</td>\n",
              "      <td>14697.48</td>\n",
              "    </tr>\n",
              "  </tbody>\n",
              "</table>\n",
              "<p>5 rows × 66 columns</p>\n",
              "</div>\n",
              "      <button class=\"colab-df-convert\" onclick=\"convertToInteractive('df-0aec0bc2-0824-41bb-88bb-37c3cdf65f38')\"\n",
              "              title=\"Convert this dataframe to an interactive table.\"\n",
              "              style=\"display:none;\">\n",
              "        \n",
              "  <svg xmlns=\"http://www.w3.org/2000/svg\" height=\"24px\"viewBox=\"0 0 24 24\"\n",
              "       width=\"24px\">\n",
              "    <path d=\"M0 0h24v24H0V0z\" fill=\"none\"/>\n",
              "    <path d=\"M18.56 5.44l.94 2.06.94-2.06 2.06-.94-2.06-.94-.94-2.06-.94 2.06-2.06.94zm-11 1L8.5 8.5l.94-2.06 2.06-.94-2.06-.94L8.5 2.5l-.94 2.06-2.06.94zm10 10l.94 2.06.94-2.06 2.06-.94-2.06-.94-.94-2.06-.94 2.06-2.06.94z\"/><path d=\"M17.41 7.96l-1.37-1.37c-.4-.4-.92-.59-1.43-.59-.52 0-1.04.2-1.43.59L10.3 9.45l-7.72 7.72c-.78.78-.78 2.05 0 2.83L4 21.41c.39.39.9.59 1.41.59.51 0 1.02-.2 1.41-.59l7.78-7.78 2.81-2.81c.8-.78.8-2.07 0-2.86zM5.41 20L4 18.59l7.72-7.72 1.47 1.35L5.41 20z\"/>\n",
              "  </svg>\n",
              "      </button>\n",
              "      \n",
              "  <style>\n",
              "    .colab-df-container {\n",
              "      display:flex;\n",
              "      flex-wrap:wrap;\n",
              "      gap: 12px;\n",
              "    }\n",
              "\n",
              "    .colab-df-convert {\n",
              "      background-color: #E8F0FE;\n",
              "      border: none;\n",
              "      border-radius: 50%;\n",
              "      cursor: pointer;\n",
              "      display: none;\n",
              "      fill: #1967D2;\n",
              "      height: 32px;\n",
              "      padding: 0 0 0 0;\n",
              "      width: 32px;\n",
              "    }\n",
              "\n",
              "    .colab-df-convert:hover {\n",
              "      background-color: #E2EBFA;\n",
              "      box-shadow: 0px 1px 2px rgba(60, 64, 67, 0.3), 0px 1px 3px 1px rgba(60, 64, 67, 0.15);\n",
              "      fill: #174EA6;\n",
              "    }\n",
              "\n",
              "    [theme=dark] .colab-df-convert {\n",
              "      background-color: #3B4455;\n",
              "      fill: #D2E3FC;\n",
              "    }\n",
              "\n",
              "    [theme=dark] .colab-df-convert:hover {\n",
              "      background-color: #434B5C;\n",
              "      box-shadow: 0px 1px 3px 1px rgba(0, 0, 0, 0.15);\n",
              "      filter: drop-shadow(0px 1px 2px rgba(0, 0, 0, 0.3));\n",
              "      fill: #FFFFFF;\n",
              "    }\n",
              "  </style>\n",
              "\n",
              "      <script>\n",
              "        const buttonEl =\n",
              "          document.querySelector('#df-0aec0bc2-0824-41bb-88bb-37c3cdf65f38 button.colab-df-convert');\n",
              "        buttonEl.style.display =\n",
              "          google.colab.kernel.accessAllowed ? 'block' : 'none';\n",
              "\n",
              "        async function convertToInteractive(key) {\n",
              "          const element = document.querySelector('#df-0aec0bc2-0824-41bb-88bb-37c3cdf65f38');\n",
              "          const dataTable =\n",
              "            await google.colab.kernel.invokeFunction('convertToInteractive',\n",
              "                                                     [key], {});\n",
              "          if (!dataTable) return;\n",
              "\n",
              "          const docLinkHtml = 'Like what you see? Visit the ' +\n",
              "            '<a target=\"_blank\" href=https://colab.research.google.com/notebooks/data_table.ipynb>data table notebook</a>'\n",
              "            + ' to learn more about interactive tables.';\n",
              "          element.innerHTML = '';\n",
              "          dataTable['output_type'] = 'display_data';\n",
              "          await google.colab.output.renderOutput(dataTable, element);\n",
              "          const docLink = document.createElement('div');\n",
              "          docLink.innerHTML = docLinkHtml;\n",
              "          element.appendChild(docLink);\n",
              "        }\n",
              "      </script>\n",
              "    </div>\n",
              "  </div>\n",
              "  "
            ]
          },
          "metadata": {},
          "execution_count": 3
        }
      ]
    },
    {
      "cell_type": "code",
      "source": [
        "1.How many features are available in the given dataset ?"
      ],
      "metadata": {
        "id": "vw5O2nYxcAWs"
      },
      "execution_count": null,
      "outputs": []
    },
    {
      "cell_type": "code",
      "source": [
        "len(df.columns)"
      ],
      "metadata": {
        "colab": {
          "base_uri": "https://localhost:8080/"
        },
        "id": "15-gtLjici0p",
        "outputId": "c64f4d88-6342-4926-f71e-f2b9f9ab2ffa"
      },
      "execution_count": 4,
      "outputs": [
        {
          "output_type": "execute_result",
          "data": {
            "text/plain": [
              "66"
            ]
          },
          "metadata": {},
          "execution_count": 4
        }
      ]
    },
    {
      "cell_type": "code",
      "source": [
        "df.columns"
      ],
      "metadata": {
        "colab": {
          "base_uri": "https://localhost:8080/"
        },
        "id": "KBbwQi_9crl0",
        "outputId": "280d10ea-023f-450f-fab1-fc2b666608f2"
      },
      "execution_count": 6,
      "outputs": [
        {
          "output_type": "execute_result",
          "data": {
            "text/plain": [
              "Index(['LoanNumber', 'DateApproved', 'SBAOfficeCode', 'ProcessingMethod',\n",
              "       'BorrowerName', 'BorrowerAddress', 'BorrowerCity', 'BorrowerState',\n",
              "       'BorrowerZip', 'LoanStatusDate', 'LoanStatus', 'Term',\n",
              "       'SBAGuarantyPercentage', 'InitialApprovalAmount',\n",
              "       'CurrentApprovalAmount', 'UndisbursedAmount', 'FranchiseName',\n",
              "       'ServicingLenderLocationID', 'ServicingLenderName',\n",
              "       'ServicingLenderAddress', 'ServicingLenderCity', 'ServicingLenderState',\n",
              "       'ServicingLenderZip', 'RuralUrbanIndicator', 'HubzoneIndicator',\n",
              "       'LMIIndicator', 'BusinessAgeDescription', 'ProjectCity',\n",
              "       'ProjectCountyName', 'ProjectState', 'ProjectZip', 'CD', 'JobsReported',\n",
              "       'NAICSCode', 'Race', 'Ethnicity', 'UTILITIES_PROCEED',\n",
              "       'PAYROLL_PROCEED', 'MORTGAGE_INTEREST_PROCEED', 'RENT_PROCEED',\n",
              "       'REFINANCE_EIDL_PROCEED', 'HEALTH_CARE_PROCEED',\n",
              "       'DEBT_INTEREST_PROCEED', 'BusinessType', 'OriginatingLenderLocationID',\n",
              "       'OriginatingLender', 'OriginatingLenderCity', 'OriginatingLenderState',\n",
              "       'Gender', 'Veteran', 'NonProfit', 'ForgivenessAmount',\n",
              "       'ForgivenessDate', 'ApprovalDiff', 'NotForgivenAmount',\n",
              "       'ForgivenPercentage', 'TOTAL_PROCEED', 'PROCEED_Diff',\n",
              "       'UTILITIES_PROCEED_pct', 'PAYROLL_PROCEED_pct',\n",
              "       'MORTGAGE_INTEREST_PROCEED_pct', 'RENT_PROCEED_pct',\n",
              "       'REFINANCE_EIDL_PROCEED_pct', 'HEALTH_CARE_PROCEED_pct',\n",
              "       'DEBT_INTEREST_PROCEED_pct', 'PROCEED_Per_Job'],\n",
              "      dtype='object')"
            ]
          },
          "metadata": {},
          "execution_count": 6
        }
      ]
    },
    {
      "cell_type": "code",
      "source": [
        "2. What is the data type of each feature?"
      ],
      "metadata": {
        "id": "Fk463ksLc91Z"
      },
      "execution_count": null,
      "outputs": []
    },
    {
      "cell_type": "code",
      "source": [
        "df.dtypes"
      ],
      "metadata": {
        "colab": {
          "base_uri": "https://localhost:8080/"
        },
        "id": "P3etCUc2dCTM",
        "outputId": "02c8e1b8-18fe-47d6-f3d4-41e945d33fa6"
      },
      "execution_count": 7,
      "outputs": [
        {
          "output_type": "execute_result",
          "data": {
            "text/plain": [
              "LoanNumber                      int64\n",
              "DateApproved                   object\n",
              "SBAOfficeCode                   int64\n",
              "ProcessingMethod               object\n",
              "BorrowerName                   object\n",
              "                               ...   \n",
              "RENT_PROCEED_pct              float64\n",
              "REFINANCE_EIDL_PROCEED_pct    float64\n",
              "HEALTH_CARE_PROCEED_pct       float64\n",
              "DEBT_INTEREST_PROCEED_pct     float64\n",
              "PROCEED_Per_Job               float64\n",
              "Length: 66, dtype: object"
            ]
          },
          "metadata": {},
          "execution_count": 7
        }
      ]
    },
    {
      "cell_type": "code",
      "source": [
        "3. What features have null values?"
      ],
      "metadata": {
        "id": "ZRtkZ--UdJjN"
      },
      "execution_count": null,
      "outputs": []
    },
    {
      "cell_type": "code",
      "source": [
        "df.isnull().any()"
      ],
      "metadata": {
        "colab": {
          "base_uri": "https://localhost:8080/"
        },
        "id": "ei90r4flfu3A",
        "outputId": "a2e3d751-2531-40eb-8255-d7bdda38bfa1"
      },
      "execution_count": 8,
      "outputs": [
        {
          "output_type": "execute_result",
          "data": {
            "text/plain": [
              "LoanNumber                    False\n",
              "DateApproved                  False\n",
              "SBAOfficeCode                 False\n",
              "ProcessingMethod              False\n",
              "BorrowerName                  False\n",
              "                              ...  \n",
              "RENT_PROCEED_pct               True\n",
              "REFINANCE_EIDL_PROCEED_pct     True\n",
              "HEALTH_CARE_PROCEED_pct        True\n",
              "DEBT_INTEREST_PROCEED_pct      True\n",
              "PROCEED_Per_Job                True\n",
              "Length: 66, dtype: bool"
            ]
          },
          "metadata": {},
          "execution_count": 8
        }
      ]
    },
    {
      "cell_type": "code",
      "source": [
        "df.columns[df.isnull().any()].tolist()"
      ],
      "metadata": {
        "colab": {
          "base_uri": "https://localhost:8080/"
        },
        "id": "w6DUS6ligUBN",
        "outputId": "83a0f037-939f-41fe-fa0c-78443fa3652f"
      },
      "execution_count": 11,
      "outputs": [
        {
          "output_type": "execute_result",
          "data": {
            "text/plain": [
              "['Veteran',\n",
              " 'NonProfit',\n",
              " 'ForgivenessAmount',\n",
              " 'ForgivenessDate',\n",
              " 'ApprovalDiff',\n",
              " 'NotForgivenAmount',\n",
              " 'ForgivenPercentage',\n",
              " 'TOTAL_PROCEED',\n",
              " 'PROCEED_Diff',\n",
              " 'UTILITIES_PROCEED_pct',\n",
              " 'PAYROLL_PROCEED_pct',\n",
              " 'MORTGAGE_INTEREST_PROCEED_pct',\n",
              " 'RENT_PROCEED_pct',\n",
              " 'REFINANCE_EIDL_PROCEED_pct',\n",
              " 'HEALTH_CARE_PROCEED_pct',\n",
              " 'DEBT_INTEREST_PROCEED_pct',\n",
              " 'PROCEED_Per_Job']"
            ]
          },
          "metadata": {},
          "execution_count": 11
        }
      ]
    },
    {
      "cell_type": "code",
      "source": [
        "4. Think about what the variables mean and what the histograms sayabout their values and their spread — are there \n",
        "any surprises?\n",
        "  Generally, histogram allows us to see the distribution of a particular variable."
      ],
      "metadata": {
        "id": "fA99vfSugyI3"
      },
      "execution_count": null,
      "outputs": []
    },
    {
      "cell_type": "code",
      "source": [
        "df.hist(figsize=(20,20))"
      ],
      "metadata": {
        "colab": {
          "base_uri": "https://localhost:8080/",
          "height": 1000
        },
        "id": "qQ74oDo_hOaX",
        "outputId": "1aab8b3f-61b6-4844-bf6e-b0607841f188"
      },
      "execution_count": 12,
      "outputs": [
        {
          "output_type": "execute_result",
          "data": {
            "text/plain": [
              "array([[<matplotlib.axes._subplots.AxesSubplot object at 0x7f2125987710>,\n",
              "        <matplotlib.axes._subplots.AxesSubplot object at 0x7f2125960750>,\n",
              "        <matplotlib.axes._subplots.AxesSubplot object at 0x7f2125919d50>,\n",
              "        <matplotlib.axes._subplots.AxesSubplot object at 0x7f21258de390>,\n",
              "        <matplotlib.axes._subplots.AxesSubplot object at 0x7f2125895990>,\n",
              "        <matplotlib.axes._subplots.AxesSubplot object at 0x7f212584af90>],\n",
              "       [<matplotlib.axes._subplots.AxesSubplot object at 0x7f212580e650>,\n",
              "        <matplotlib.axes._subplots.AxesSubplot object at 0x7f21257c6b90>,\n",
              "        <matplotlib.axes._subplots.AxesSubplot object at 0x7f21257c6bd0>,\n",
              "        <matplotlib.axes._subplots.AxesSubplot object at 0x7f2125787310>,\n",
              "        <matplotlib.axes._subplots.AxesSubplot object at 0x7f2125774e10>,\n",
              "        <matplotlib.axes._subplots.AxesSubplot object at 0x7f2125738450>],\n",
              "       [<matplotlib.axes._subplots.AxesSubplot object at 0x7f21256eca50>,\n",
              "        <matplotlib.axes._subplots.AxesSubplot object at 0x7f212569bb90>,\n",
              "        <matplotlib.axes._subplots.AxesSubplot object at 0x7f2125668690>,\n",
              "        <matplotlib.axes._subplots.AxesSubplot object at 0x7f212561dc90>,\n",
              "        <matplotlib.axes._subplots.AxesSubplot object at 0x7f21255df2d0>,\n",
              "        <matplotlib.axes._subplots.AxesSubplot object at 0x7f21255968d0>],\n",
              "       [<matplotlib.axes._subplots.AxesSubplot object at 0x7f212554eed0>,\n",
              "        <matplotlib.axes._subplots.AxesSubplot object at 0x7f2125512510>,\n",
              "        <matplotlib.axes._subplots.AxesSubplot object at 0x7f21254c7b10>,\n",
              "        <matplotlib.axes._subplots.AxesSubplot object at 0x7f212548b150>,\n",
              "        <matplotlib.axes._subplots.AxesSubplot object at 0x7f21254bf750>,\n",
              "        <matplotlib.axes._subplots.AxesSubplot object at 0x7f2125475d50>],\n",
              "       [<matplotlib.axes._subplots.AxesSubplot object at 0x7f2125439390>,\n",
              "        <matplotlib.axes._subplots.AxesSubplot object at 0x7f21253ef990>,\n",
              "        <matplotlib.axes._subplots.AxesSubplot object at 0x7f21253a7f90>,\n",
              "        <matplotlib.axes._subplots.AxesSubplot object at 0x7f212536a5d0>,\n",
              "        <matplotlib.axes._subplots.AxesSubplot object at 0x7f212531fbd0>,\n",
              "        <matplotlib.axes._subplots.AxesSubplot object at 0x7f21252e3210>],\n",
              "       [<matplotlib.axes._subplots.AxesSubplot object at 0x7f212529d210>,\n",
              "        <matplotlib.axes._subplots.AxesSubplot object at 0x7f2125254710>,\n",
              "        <matplotlib.axes._subplots.AxesSubplot object at 0x7f212520ac10>,\n",
              "        <matplotlib.axes._subplots.AxesSubplot object at 0x7f21251cd150>,\n",
              "        <matplotlib.axes._subplots.AxesSubplot object at 0x7f2125204650>,\n",
              "        <matplotlib.axes._subplots.AxesSubplot object at 0x7f21251b9b50>]],\n",
              "      dtype=object)"
            ]
          },
          "metadata": {},
          "execution_count": 12
        },
        {
          "output_type": "display_data",
          "data": {
            "text/plain": [
              "<Figure size 1440x1440 with 36 Axes>"
            ],
            "image/png": "[encoded data removed]"
          },
          "metadata": {
            "needs_background": "light"
          }
        }
      ]
    },
    {
      "cell_type": "code",
      "source": [
        "5. What is the mean for each variable? What do the means tell you about your dataset as a whole?"
      ],
      "metadata": {
        "id": "49BO_fsoheVP"
      },
      "execution_count": null,
      "outputs": []
    },
    {
      "cell_type": "code",
      "source": [
        "df.mean()"
      ],
      "metadata": {
        "colab": {
          "base_uri": "https://localhost:8080/"
        },
        "id": "kIbiPuCNhnU5",
        "outputId": "e2f38cf2-0349-456e-f948-fc8bb506d4fa"
      },
      "execution_count": 13,
      "outputs": [
        {
          "output_type": "stream",
          "name": "stderr",
          "text": [
            "/usr/local/lib/python3.7/dist-packages/ipykernel_launcher.py:1: FutureWarning: Dropping of nuisance columns in DataFrame reductions (with 'numeric_only=None') is deprecated; in a future version this will raise TypeError.  Select only valid columns before calling the reduction.\n",
            "  \"\"\"Entry point for launching an IPython kernel.\n"
          ]
        },
        {
          "output_type": "execute_result",
          "data": {
            "text/plain": [
              "LoanNumber                       5.509745e+09\n",
              "SBAOfficeCode                    6.993269e+02\n",
              "Term                             3.506882e+01\n",
              "SBAGuarantyPercentage            1.000000e+02\n",
              "InitialApprovalAmount            6.111470e+05\n",
              "CurrentApprovalAmount            6.108703e+05\n",
              "UndisbursedAmount                0.000000e+00\n",
              "ServicingLenderLocationID        1.180406e+05\n",
              "JobsReported                     6.337992e+01\n",
              "NAICSCode                        4.997759e+05\n",
              "UTILITIES_PROCEED                7.321276e+03\n",
              "PAYROLL_PROCEED                  5.894289e+05\n",
              "MORTGAGE_INTEREST_PROCEED        3.310725e+03\n",
              "RENT_PROCEED                     6.930629e+03\n",
              "REFINANCE_EIDL_PROCEED           2.991230e+02\n",
              "HEALTH_CARE_PROCEED              2.873746e+03\n",
              "DEBT_INTEREST_PROCEED            7.053841e+02\n",
              "OriginatingLenderLocationID      1.179021e+05\n",
              "ForgivenessAmount                5.587531e+05\n",
              "ApprovalDiff                    -2.767341e+02\n",
              "NotForgivenAmount                5.212685e+04\n",
              "ForgivenPercentage               9.204287e-01\n",
              "TOTAL_PROCEED                    6.108794e+05\n",
              "PROCEED_Diff                     5.435102e-01\n",
              "UTILITIES_PROCEED_pct            1.176022e-02\n",
              "PAYROLL_PROCEED_pct              9.670374e-01\n",
              "MORTGAGE_INTEREST_PROCEED_pct    4.939332e-03\n",
              "RENT_PROCEED_pct                 1.077263e-02\n",
              "REFINANCE_EIDL_PROCEED_pct       6.265469e-04\n",
              "HEALTH_CARE_PROCEED_pct          3.657818e-03\n",
              "DEBT_INTEREST_PROCEED_pct        1.203318e-03\n",
              "PROCEED_Per_Job                  1.149608e+04\n",
              "dtype: float64"
            ]
          },
          "metadata": {},
          "execution_count": 13
        }
      ]
    },
    {
      "cell_type": "code",
      "source": [
        "6.Categorise the data based on the column \"Borrower City\" and plot the histogram based on \"Borrower City\" columns."
      ],
      "metadata": {
        "id": "Fg95_nRliq_U"
      },
      "execution_count": null,
      "outputs": []
    },
    {
      "cell_type": "code",
      "source": [
        "df['BorrowerCity'].hist(figsize=(30,10),color='pink')"
      ],
      "metadata": {
        "colab": {
          "base_uri": "https://localhost:8080/",
          "height": 440
        },
        "id": "qcztVHfVjsRj",
        "outputId": "5c4064f8-502e-4463-d9e2-fbe4c7a7f846"
      },
      "execution_count": 18,
      "outputs": [
        {
          "output_type": "execute_result",
          "data": {
            "text/plain": [
              "<matplotlib.axes._subplots.AxesSubplot at 0x7f2120778890>"
            ]
          },
          "metadata": {},
          "execution_count": 18
        },
        {
          "output_type": "display_data",
          "data": {
            "text/plain": [
              "<Figure size 2160x720 with 1 Axes>"
            ],
            "image/png": "[encoded data removed]"
          },
          "metadata": {
            "needs_background": "light"
          }
        }
      ]
    },
    {
      "cell_type": "code",
      "source": [
        "7.Calculate the below values for the column \"Intial Approval Amount\" \n",
        "\n",
        "Count,mean,std,min,25%,50%,75%,max"
      ],
      "metadata": {
        "id": "nbAMeymFlioE"
      },
      "execution_count": null,
      "outputs": []
    },
    {
      "cell_type": "code",
      "source": [
        "df['InitialApprovalAmount'].describe()"
      ],
      "metadata": {
        "colab": {
          "base_uri": "https://localhost:8080/"
        },
        "id": "6Z7xw18_mYT4",
        "outputId": "b9d38bf8-9113-4f6f-f48a-b866f1c6b108"
      },
      "execution_count": 19,
      "outputs": [
        {
          "output_type": "execute_result",
          "data": {
            "text/plain": [
              "count    2.561600e+04\n",
              "mean     6.111470e+05\n",
              "std      7.936773e+05\n",
              "min      3.000000e+03\n",
              "25%      2.167512e+05\n",
              "50%      3.777000e+05\n",
              "75%      6.618500e+05\n",
              "max      1.000000e+07\n",
              "Name: InitialApprovalAmount, dtype: float64"
            ]
          },
          "metadata": {},
          "execution_count": 19
        }
      ]
    },
    {
      "cell_type": "code",
      "source": [
        "8.Calculate the below values for the column \"CurrentApprovalAmount\" \n",
        "\n",
        "Count,mean,std,min,25%,50%,75%,max"
      ],
      "metadata": {
        "id": "U3gzuARbnJOd"
      },
      "execution_count": null,
      "outputs": []
    },
    {
      "cell_type": "code",
      "source": [
        "df['CurrentApprovalAmount'].describe()"
      ],
      "metadata": {
        "colab": {
          "base_uri": "https://localhost:8080/"
        },
        "id": "42F-M-RRnRz0",
        "outputId": "271faa0c-e238-4bd6-d6de-7ab3f4bd204e"
      },
      "execution_count": 20,
      "outputs": [
        {
          "output_type": "execute_result",
          "data": {
            "text/plain": [
              "count    2.561600e+04\n",
              "mean     6.108703e+05\n",
              "std      7.890661e+05\n",
              "min      1.500000e+05\n",
              "25%      2.173000e+05\n",
              "50%      3.786610e+05\n",
              "75%      6.624250e+05\n",
              "max      1.000000e+07\n",
              "Name: CurrentApprovalAmount, dtype: float64"
            ]
          },
          "metadata": {},
          "execution_count": 20
        }
      ]
    },
    {
      "cell_type": "code",
      "source": [
        "9.How many distinct \"ProjectState\" are available in the dataset? List them."
      ],
      "metadata": {
        "id": "F7BmQt7wnXc7"
      },
      "execution_count": null,
      "outputs": []
    },
    {
      "cell_type": "code",
      "source": [
        "df.ProjectState.unique()"
      ],
      "metadata": {
        "colab": {
          "base_uri": "https://localhost:8080/"
        },
        "id": "ssg5qjB2ng-u",
        "outputId": "10326360-8207-44d0-de45-98feed5c5c42"
      },
      "execution_count": 21,
      "outputs": [
        {
          "output_type": "execute_result",
          "data": {
            "text/plain": [
              "array(['SC', 'WA', 'CA', 'UNK', 'FL', 'AK', 'AL', 'GA', 'AR', 'AS', 'AZ',\n",
              "       'OH'], dtype=object)"
            ]
          },
          "metadata": {},
          "execution_count": 21
        }
      ]
    },
    {
      "cell_type": "code",
      "source": [
        "len(df.ProjectState.unique())"
      ],
      "metadata": {
        "colab": {
          "base_uri": "https://localhost:8080/"
        },
        "id": "fbjyvYpOnr0s",
        "outputId": "e110eff8-aea7-43ab-dfcc-03073b1e53b9"
      },
      "execution_count": 22,
      "outputs": [
        {
          "output_type": "execute_result",
          "data": {
            "text/plain": [
              "12"
            ]
          },
          "metadata": {},
          "execution_count": 22
        }
      ]
    },
    {
      "cell_type": "code",
      "source": [
        "10.List out the counts by column \"Business Type\" from the given dataset."
      ],
      "metadata": {
        "id": "1bxP0Uf5nv2r"
      },
      "execution_count": null,
      "outputs": []
    },
    {
      "cell_type": "code",
      "source": [
        "df.BusinessType.value_counts()"
      ],
      "metadata": {
        "colab": {
          "base_uri": "https://localhost:8080/"
        },
        "id": "0q-bK7cdoAhs",
        "outputId": "ae9a87f9-ef6b-4e0d-c401-0c3dd09e207d"
      },
      "execution_count": 23,
      "outputs": [
        {
          "output_type": "execute_result",
          "data": {
            "text/plain": [
              "Corporation                            10557\n",
              "Limited  Liability Company(LLC)         7597\n",
              "Subchapter S Corporation                4572\n",
              "Non-Profit Organization                 1635\n",
              "Sole Proprietorship                      317\n",
              "Partnership                              270\n",
              "Professional Association                 211\n",
              "Limited Liability Partnership            206\n",
              "Cooperative                               72\n",
              "501(c)3 – Non Profit                      39\n",
              "Non-Profit Childcare Center               30\n",
              "Employee Stock Ownership Plan(ESOP)       22\n",
              "501(c)6 – Non Profit Membership           19\n",
              "Unknown                                   17\n",
              "Self-Employed Individuals                 17\n",
              "Tribal Concerns                           10\n",
              "Trust                                      9\n",
              "Independent Contractors                    7\n",
              "Single Member LLC                          5\n",
              "Joint Venture                              3\n",
              "Tenant in Common                           1\n",
              "Name: BusinessType, dtype: int64"
            ]
          },
          "metadata": {},
          "execution_count": 23
        }
      ]
    }
  ]
}